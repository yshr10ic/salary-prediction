{
 "cells": [
  {
   "cell_type": "markdown",
   "metadata": {},
   "source": [
    "# 給与推定コンペ"
   ]
  },
  {
   "cell_type": "markdown",
   "metadata": {},
   "source": [
    "## ライブラリのインポート"
   ]
  },
  {
   "cell_type": "code",
   "execution_count": 1,
   "metadata": {},
   "outputs": [],
   "source": [
    "import numpy as np\n",
    "import pandas as pd\n",
    "import japanize_matplotlib\n",
    "\n",
    "from sklearn import preprocessing\n",
    "from sklearn.model_selection import train_test_split\n",
    "from sklearn.model_selection import KFold\n",
    "import lightgbm as lgb\n",
    "\n",
    "import warnings\n",
    "warnings.simplefilter('ignore')"
   ]
  },
  {
   "cell_type": "markdown",
   "metadata": {},
   "source": [
    "## データの読み込み"
   ]
  },
  {
   "cell_type": "code",
   "execution_count": 2,
   "metadata": {},
   "outputs": [],
   "source": [
    "train = pd.read_csv('data/train_data.csv')\n",
    "test = pd.read_csv('data/test_data.csv')"
   ]
  },
  {
   "cell_type": "markdown",
   "metadata": {},
   "source": [
    "<div align=\"center\">\n",
    "    <img src=\"img/column_description.png\">\n",
    "</div>"
   ]
  },
  {
   "cell_type": "markdown",
   "metadata": {},
   "source": [
    "## 前処理"
   ]
  },
  {
   "cell_type": "code",
   "execution_count": 3,
   "metadata": {},
   "outputs": [],
   "source": [
    "def convert_area(area):\n",
    "    if area in ['北海道']:\n",
    "        return '北海道'\n",
    "    elif area in ['青森県', '岩手県', '宮城県', '秋田県', '山形県', '福島県']:\n",
    "        return '東北地方'\n",
    "    elif area in ['茨城県', '栃木県', '群馬県', '埼玉県', '千葉県', '神奈川県']:\n",
    "        return '関東地方'\n",
    "    elif area in ['東京都', '大阪府']:\n",
    "        return '首都圏'\n",
    "    elif area in ['新潟県', '富山県', '石川県', '福井県', '長野県', '山梨県', '岐阜県', '静岡県', '愛知県']:\n",
    "        return '中部地方'\n",
    "    elif area in ['三重県', '滋賀県', '京都府', '兵庫県', '奈良県', '和歌山県']:\n",
    "        return '近畿地方'\n",
    "    elif area in ['鳥取県', '島根県', '岡山県', '広島県', '山口県']:\n",
    "        return '中国地方'\n",
    "    elif area in ['徳島県', '香川県', '愛媛県', '高知県']:\n",
    "        return '四国地方'\n",
    "    elif area in ['福岡県', '佐賀県', '長崎県', '熊本県', '大分県', '宮崎県', '鹿児島県']:\n",
    "        return '九州地方'\n",
    "    elif area in ['沖縄県']:\n",
    "        return '沖縄地方'"
   ]
  },
  {
   "cell_type": "code",
   "execution_count": 4,
   "metadata": {},
   "outputs": [],
   "source": [
    "train['area'] = train['area'].map(convert_area)\n",
    "test['area'] = test['area'].map(convert_area)"
   ]
  },
  {
   "cell_type": "code",
   "execution_count": null,
   "metadata": {},
   "outputs": [],
   "source": [
    "# def convert_age(age):\n",
    "#     return int((age - age % 10) / 10)"
   ]
  },
  {
   "cell_type": "code",
   "execution_count": null,
   "metadata": {},
   "outputs": [],
   "source": [
    "# train['age'] = train['age'].map(convert_age)\n",
    "# test['age'] = test['age'].map(convert_age)"
   ]
  },
  {
   "cell_type": "code",
   "execution_count": null,
   "metadata": {},
   "outputs": [],
   "source": [
    "# train.loc[train['num_child'] > 0, 'num_child'] = 1\n",
    "# test.loc[test['num_child'] > 0, 'num_child'] = 1"
   ]
  },
  {
   "cell_type": "code",
   "execution_count": null,
   "metadata": {},
   "outputs": [],
   "source": [
    "train.head()"
   ]
  },
  {
   "cell_type": "code",
   "execution_count": null,
   "metadata": {},
   "outputs": [],
   "source": [
    "# Label Encoding\n",
    "\n",
    "# le = preprocessing.LabelEncoder()\n",
    "# train['area'] = le.fit_transform(train['area'])\n",
    "# test['area'] = le.transform(test['area'])"
   ]
  },
  {
   "cell_type": "code",
   "execution_count": 5,
   "metadata": {},
   "outputs": [],
   "source": [
    "# Target Encoding\n",
    "\n",
    "cat_cols = ['area', 'sex', 'partner', 'education']\n",
    "\n",
    "for c in cat_cols:\n",
    "    data_tmp = pd.DataFrame({c: train[c], 'target': train.iloc[:, -1]})\n",
    "    target_mean = data_tmp.groupby(c)['target'].mean()\n",
    "    test[c] = test[c].map(target_mean)\n",
    "    \n",
    "    tmp = np.repeat(np.nan, train.shape[0])\n",
    "    \n",
    "    fold = KFold(n_splits=5, shuffle=True, random_state=0)\n",
    "    \n",
    "    for idx_1, idx_2 in fold.split(train):\n",
    "        target_mean = data_tmp.iloc[idx_1].groupby(c)['target'].mean()\n",
    "        tmp[idx_2] = train[c].iloc[idx_2].map(target_mean)\n",
    "    \n",
    "    train[c] = tmp"
   ]
  },
  {
   "cell_type": "code",
   "execution_count": 6,
   "metadata": {},
   "outputs": [
    {
     "data": {
      "text/html": [
       "<div>\n",
       "<style scoped>\n",
       "    .dataframe tbody tr th:only-of-type {\n",
       "        vertical-align: middle;\n",
       "    }\n",
       "\n",
       "    .dataframe tbody tr th {\n",
       "        vertical-align: top;\n",
       "    }\n",
       "\n",
       "    .dataframe thead th {\n",
       "        text-align: right;\n",
       "    }\n",
       "</style>\n",
       "<table border=\"1\" class=\"dataframe\">\n",
       "  <thead>\n",
       "    <tr style=\"text-align: right;\">\n",
       "      <th></th>\n",
       "      <th>id</th>\n",
       "      <th>position</th>\n",
       "      <th>age</th>\n",
       "      <th>area</th>\n",
       "      <th>sex</th>\n",
       "      <th>partner</th>\n",
       "      <th>num_child</th>\n",
       "      <th>education</th>\n",
       "      <th>service_length</th>\n",
       "      <th>study_time</th>\n",
       "      <th>commute</th>\n",
       "      <th>overtime</th>\n",
       "      <th>salary</th>\n",
       "    </tr>\n",
       "  </thead>\n",
       "  <tbody>\n",
       "    <tr>\n",
       "      <th>0</th>\n",
       "      <td>0</td>\n",
       "      <td>1</td>\n",
       "      <td>44</td>\n",
       "      <td>362.144259</td>\n",
       "      <td>355.195699</td>\n",
       "      <td>386.400087</td>\n",
       "      <td>2</td>\n",
       "      <td>324.753092</td>\n",
       "      <td>24</td>\n",
       "      <td>2.0</td>\n",
       "      <td>1.6</td>\n",
       "      <td>9.2</td>\n",
       "      <td>428.074887</td>\n",
       "    </tr>\n",
       "    <tr>\n",
       "      <th>1</th>\n",
       "      <td>1</td>\n",
       "      <td>2</td>\n",
       "      <td>31</td>\n",
       "      <td>361.168994</td>\n",
       "      <td>366.656122</td>\n",
       "      <td>335.733034</td>\n",
       "      <td>0</td>\n",
       "      <td>310.001389</td>\n",
       "      <td>13</td>\n",
       "      <td>9.0</td>\n",
       "      <td>0.7</td>\n",
       "      <td>12.4</td>\n",
       "      <td>317.930517</td>\n",
       "    </tr>\n",
       "    <tr>\n",
       "      <th>2</th>\n",
       "      <td>2</td>\n",
       "      <td>2</td>\n",
       "      <td>36</td>\n",
       "      <td>357.100714</td>\n",
       "      <td>366.356815</td>\n",
       "      <td>335.353884</td>\n",
       "      <td>0</td>\n",
       "      <td>386.126220</td>\n",
       "      <td>14</td>\n",
       "      <td>4.0</td>\n",
       "      <td>0.4</td>\n",
       "      <td>16.9</td>\n",
       "      <td>357.350316</td>\n",
       "    </tr>\n",
       "    <tr>\n",
       "      <th>3</th>\n",
       "      <td>3</td>\n",
       "      <td>0</td>\n",
       "      <td>22</td>\n",
       "      <td>405.437042</td>\n",
       "      <td>355.195699</td>\n",
       "      <td>335.353884</td>\n",
       "      <td>0</td>\n",
       "      <td>310.003217</td>\n",
       "      <td>4</td>\n",
       "      <td>3.0</td>\n",
       "      <td>0.4</td>\n",
       "      <td>6.1</td>\n",
       "      <td>201.310911</td>\n",
       "    </tr>\n",
       "    <tr>\n",
       "      <th>4</th>\n",
       "      <td>4</td>\n",
       "      <td>0</td>\n",
       "      <td>25</td>\n",
       "      <td>358.224840</td>\n",
       "      <td>355.181718</td>\n",
       "      <td>335.733034</td>\n",
       "      <td>0</td>\n",
       "      <td>325.070476</td>\n",
       "      <td>5</td>\n",
       "      <td>3.0</td>\n",
       "      <td>0.2</td>\n",
       "      <td>4.9</td>\n",
       "      <td>178.067475</td>\n",
       "    </tr>\n",
       "  </tbody>\n",
       "</table>\n",
       "</div>"
      ],
      "text/plain": [
       "   id  position  age        area         sex     partner  num_child  \\\n",
       "0   0         1   44  362.144259  355.195699  386.400087          2   \n",
       "1   1         2   31  361.168994  366.656122  335.733034          0   \n",
       "2   2         2   36  357.100714  366.356815  335.353884          0   \n",
       "3   3         0   22  405.437042  355.195699  335.353884          0   \n",
       "4   4         0   25  358.224840  355.181718  335.733034          0   \n",
       "\n",
       "    education  service_length  study_time  commute  overtime      salary  \n",
       "0  324.753092              24         2.0      1.6       9.2  428.074887  \n",
       "1  310.001389              13         9.0      0.7      12.4  317.930517  \n",
       "2  386.126220              14         4.0      0.4      16.9  357.350316  \n",
       "3  310.003217               4         3.0      0.4       6.1  201.310911  \n",
       "4  325.070476               5         3.0      0.2       4.9  178.067475  "
      ]
     },
     "execution_count": 6,
     "metadata": {},
     "output_type": "execute_result"
    }
   ],
   "source": [
    "train.head()"
   ]
  },
  {
   "cell_type": "markdown",
   "metadata": {},
   "source": [
    "## 学習"
   ]
  },
  {
   "cell_type": "code",
   "execution_count": 7,
   "metadata": {},
   "outputs": [
    {
     "data": {
      "text/plain": [
       "((21000, 11), (21000,), (9000, 11))"
      ]
     },
     "execution_count": 7,
     "metadata": {},
     "output_type": "execute_result"
    }
   ],
   "source": [
    "X = train.iloc[:, 1:-1]\n",
    "y = train.iloc[:, -1]\n",
    "X_test = test.iloc[:, 1:]\n",
    "\n",
    "X.shape, y.shape, X_test.shape"
   ]
  },
  {
   "cell_type": "code",
   "execution_count": 8,
   "metadata": {},
   "outputs": [],
   "source": [
    "X_train, X_valid, y_train, y_valid = train_test_split(\n",
    "    X, y, test_size=0.2, random_state=0\n",
    ")"
   ]
  },
  {
   "cell_type": "code",
   "execution_count": 9,
   "metadata": {},
   "outputs": [],
   "source": [
    "train_data = lgb.Dataset(X_train, y_train)\n",
    "valid_data = lgb.Dataset(X_valid, y_valid)"
   ]
  },
  {
   "cell_type": "code",
   "execution_count": 10,
   "metadata": {},
   "outputs": [],
   "source": [
    "params = {\n",
    "    'task' : 'train',\n",
    "    'boosting_type' : 'gbdt',\n",
    "    'objective' : 'regression',\n",
    "    'metric': 'mae',\n",
    "    'verbose' : 0\n",
    "}"
   ]
  },
  {
   "cell_type": "code",
   "execution_count": null,
   "metadata": {},
   "outputs": [],
   "source": [
    "# categorical_features = [\n",
    "#     'area', 'sex', 'partner', 'education'\n",
    "# ]"
   ]
  },
  {
   "cell_type": "code",
   "execution_count": 11,
   "metadata": {},
   "outputs": [
    {
     "name": "stdout",
     "output_type": "stream",
     "text": [
      "[1]\tvalid_0's l1: 127.709\n",
      "[2]\tvalid_0's l1: 116.556\n",
      "[3]\tvalid_0's l1: 106.437\n",
      "[4]\tvalid_0's l1: 97.4416\n",
      "[5]\tvalid_0's l1: 89.7031\n",
      "[6]\tvalid_0's l1: 82.6555\n",
      "[7]\tvalid_0's l1: 76.3411\n",
      "[8]\tvalid_0's l1: 70.6503\n",
      "[9]\tvalid_0's l1: 65.6553\n",
      "[10]\tvalid_0's l1: 60.8874\n",
      "[11]\tvalid_0's l1: 56.694\n",
      "[12]\tvalid_0's l1: 52.9874\n",
      "[13]\tvalid_0's l1: 49.6382\n",
      "[14]\tvalid_0's l1: 46.7259\n",
      "[15]\tvalid_0's l1: 44.0856\n",
      "[16]\tvalid_0's l1: 41.8093\n",
      "[17]\tvalid_0's l1: 39.71\n",
      "[18]\tvalid_0's l1: 37.8466\n",
      "[19]\tvalid_0's l1: 36.2453\n",
      "[20]\tvalid_0's l1: 34.8454\n",
      "[21]\tvalid_0's l1: 33.6991\n",
      "[22]\tvalid_0's l1: 32.6974\n",
      "[23]\tvalid_0's l1: 31.729\n",
      "[24]\tvalid_0's l1: 30.9183\n",
      "[25]\tvalid_0's l1: 30.2215\n",
      "[26]\tvalid_0's l1: 29.6007\n",
      "[27]\tvalid_0's l1: 29.0995\n",
      "[28]\tvalid_0's l1: 28.6081\n",
      "[29]\tvalid_0's l1: 28.2115\n",
      "[30]\tvalid_0's l1: 27.8063\n",
      "[31]\tvalid_0's l1: 27.3738\n",
      "[32]\tvalid_0's l1: 27.0556\n",
      "[33]\tvalid_0's l1: 26.7482\n",
      "[34]\tvalid_0's l1: 26.4185\n",
      "[35]\tvalid_0's l1: 26.1922\n",
      "[36]\tvalid_0's l1: 25.9801\n",
      "[37]\tvalid_0's l1: 25.792\n",
      "[38]\tvalid_0's l1: 25.5956\n",
      "[39]\tvalid_0's l1: 25.4429\n",
      "[40]\tvalid_0's l1: 25.2519\n",
      "[41]\tvalid_0's l1: 25.1258\n",
      "[42]\tvalid_0's l1: 24.9605\n",
      "[43]\tvalid_0's l1: 24.8619\n",
      "[44]\tvalid_0's l1: 24.6924\n",
      "[45]\tvalid_0's l1: 24.5625\n",
      "[46]\tvalid_0's l1: 24.4479\n",
      "[47]\tvalid_0's l1: 24.3566\n",
      "[48]\tvalid_0's l1: 24.2334\n",
      "[49]\tvalid_0's l1: 24.1562\n",
      "[50]\tvalid_0's l1: 24.0857\n",
      "[51]\tvalid_0's l1: 24.0225\n",
      "[52]\tvalid_0's l1: 23.9725\n",
      "[53]\tvalid_0's l1: 23.8896\n",
      "[54]\tvalid_0's l1: 23.8674\n",
      "[55]\tvalid_0's l1: 23.7952\n",
      "[56]\tvalid_0's l1: 23.744\n",
      "[57]\tvalid_0's l1: 23.679\n",
      "[58]\tvalid_0's l1: 23.6579\n",
      "[59]\tvalid_0's l1: 23.6209\n",
      "[60]\tvalid_0's l1: 23.5972\n",
      "[61]\tvalid_0's l1: 23.5636\n",
      "[62]\tvalid_0's l1: 23.5428\n",
      "[63]\tvalid_0's l1: 23.5275\n",
      "[64]\tvalid_0's l1: 23.4795\n",
      "[65]\tvalid_0's l1: 23.4582\n",
      "[66]\tvalid_0's l1: 23.4539\n",
      "[67]\tvalid_0's l1: 23.438\n",
      "[68]\tvalid_0's l1: 23.4286\n",
      "[69]\tvalid_0's l1: 23.3954\n",
      "[70]\tvalid_0's l1: 23.3856\n",
      "[71]\tvalid_0's l1: 23.3791\n",
      "[72]\tvalid_0's l1: 23.3476\n",
      "[73]\tvalid_0's l1: 23.3421\n",
      "[74]\tvalid_0's l1: 23.3102\n",
      "[75]\tvalid_0's l1: 23.3082\n",
      "[76]\tvalid_0's l1: 23.2911\n",
      "[77]\tvalid_0's l1: 23.2958\n",
      "[78]\tvalid_0's l1: 23.2972\n",
      "[79]\tvalid_0's l1: 23.2849\n",
      "[80]\tvalid_0's l1: 23.2498\n",
      "[81]\tvalid_0's l1: 23.2372\n",
      "[82]\tvalid_0's l1: 23.2195\n",
      "[83]\tvalid_0's l1: 23.218\n",
      "[84]\tvalid_0's l1: 23.2092\n",
      "[85]\tvalid_0's l1: 23.2029\n",
      "[86]\tvalid_0's l1: 23.2029\n",
      "[87]\tvalid_0's l1: 23.1933\n",
      "[88]\tvalid_0's l1: 23.1765\n",
      "[89]\tvalid_0's l1: 23.1783\n",
      "[90]\tvalid_0's l1: 23.1796\n",
      "[91]\tvalid_0's l1: 23.1774\n",
      "[92]\tvalid_0's l1: 23.1819\n",
      "[93]\tvalid_0's l1: 23.1822\n",
      "[94]\tvalid_0's l1: 23.1742\n",
      "[95]\tvalid_0's l1: 23.1756\n",
      "[96]\tvalid_0's l1: 23.1792\n",
      "[97]\tvalid_0's l1: 23.1737\n",
      "[98]\tvalid_0's l1: 23.1654\n",
      "[99]\tvalid_0's l1: 23.1601\n",
      "[100]\tvalid_0's l1: 23.1541\n",
      "[101]\tvalid_0's l1: 23.151\n",
      "[102]\tvalid_0's l1: 23.146\n",
      "[103]\tvalid_0's l1: 23.1543\n",
      "[104]\tvalid_0's l1: 23.1403\n",
      "[105]\tvalid_0's l1: 23.1402\n",
      "[106]\tvalid_0's l1: 23.1451\n",
      "[107]\tvalid_0's l1: 23.1525\n",
      "[108]\tvalid_0's l1: 23.1541\n",
      "[109]\tvalid_0's l1: 23.1398\n",
      "[110]\tvalid_0's l1: 23.1141\n",
      "[111]\tvalid_0's l1: 23.1042\n",
      "[112]\tvalid_0's l1: 23.1022\n",
      "[113]\tvalid_0's l1: 23.0982\n",
      "[114]\tvalid_0's l1: 23.1039\n",
      "[115]\tvalid_0's l1: 23.0834\n",
      "[116]\tvalid_0's l1: 23.0872\n",
      "[117]\tvalid_0's l1: 23.0907\n",
      "[118]\tvalid_0's l1: 23.084\n",
      "[119]\tvalid_0's l1: 23.0712\n",
      "[120]\tvalid_0's l1: 23.0735\n",
      "[121]\tvalid_0's l1: 23.0735\n",
      "[122]\tvalid_0's l1: 23.0785\n",
      "[123]\tvalid_0's l1: 23.0877\n",
      "[124]\tvalid_0's l1: 23.0885\n",
      "[125]\tvalid_0's l1: 23.0931\n",
      "[126]\tvalid_0's l1: 23.0988\n",
      "[127]\tvalid_0's l1: 23.1012\n",
      "[128]\tvalid_0's l1: 23.0967\n",
      "[129]\tvalid_0's l1: 23.0964\n",
      "[130]\tvalid_0's l1: 23.0949\n",
      "[131]\tvalid_0's l1: 23.1055\n",
      "[132]\tvalid_0's l1: 23.1069\n",
      "[133]\tvalid_0's l1: 23.1067\n",
      "[134]\tvalid_0's l1: 23.111\n",
      "[135]\tvalid_0's l1: 23.11\n",
      "[136]\tvalid_0's l1: 23.1102\n",
      "[137]\tvalid_0's l1: 23.1088\n",
      "[138]\tvalid_0's l1: 23.1027\n",
      "[139]\tvalid_0's l1: 23.1041\n",
      "[140]\tvalid_0's l1: 23.0914\n",
      "[141]\tvalid_0's l1: 23.0844\n",
      "[142]\tvalid_0's l1: 23.0861\n",
      "[143]\tvalid_0's l1: 23.0728\n",
      "[144]\tvalid_0's l1: 23.0744\n",
      "[145]\tvalid_0's l1: 23.0719\n",
      "[146]\tvalid_0's l1: 23.0775\n",
      "[147]\tvalid_0's l1: 23.0768\n",
      "[148]\tvalid_0's l1: 23.072\n",
      "[149]\tvalid_0's l1: 23.0872\n",
      "[150]\tvalid_0's l1: 23.0773\n"
     ]
    }
   ],
   "source": [
    "model = lgb.train(\n",
    "    params,\n",
    "    train_data,\n",
    "    num_boost_round=150,\n",
    "    valid_sets=valid_data,\n",
    "#     categorical_feature=categorical_features\n",
    ")"
   ]
  },
  {
   "cell_type": "code",
   "execution_count": 12,
   "metadata": {},
   "outputs": [],
   "source": [
    "y_pred = model.predict(X_test)"
   ]
  },
  {
   "cell_type": "markdown",
   "metadata": {},
   "source": [
    "## 提出ファイルの作成"
   ]
  },
  {
   "cell_type": "code",
   "execution_count": 13,
   "metadata": {},
   "outputs": [],
   "source": [
    "submit_df = pd.DataFrame({'y': y_pred})\n",
    "submit_df.index.name = 'id'\n",
    "submit_df.to_csv('submission\\submission_04_3.csv')"
   ]
  },
  {
   "cell_type": "markdown",
   "metadata": {},
   "source": [
    "## 結果\n",
    "- 25.90463"
   ]
  }
 ],
 "metadata": {
  "kernelspec": {
   "display_name": "Python 3",
   "language": "python",
   "name": "python3"
  },
  "language_info": {
   "codemirror_mode": {
    "name": "ipython",
    "version": 3
   },
   "file_extension": ".py",
   "mimetype": "text/x-python",
   "name": "python",
   "nbconvert_exporter": "python",
   "pygments_lexer": "ipython3",
   "version": "3.7.5"
  }
 },
 "nbformat": 4,
 "nbformat_minor": 2
}
