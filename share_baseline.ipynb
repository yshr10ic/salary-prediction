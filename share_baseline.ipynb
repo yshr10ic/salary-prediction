{
  "nbformat": 4,
  "nbformat_minor": 0,
  "metadata": {
    "colab": {
      "name": "share_baseline.ipynb",
      "provenance": [],
      "collapsed_sections": [],
      "include_colab_link": true
    },
    "kernelspec": {
      "name": "python3",
      "display_name": "Python 3"
    }
  },
  "cells": [
    {
      "cell_type": "markdown",
      "metadata": {
        "id": "view-in-github",
        "colab_type": "text"
      },
      "source": [
        "<a href=\"https://colab.research.google.com/github/yshr10ic/salary-prediction/blob/master/share_baseline.ipynb\" target=\"_parent\"><img src=\"https://colab.research.google.com/assets/colab-badge.svg\" alt=\"Open In Colab\"/></a>"
      ]
    },
    {
      "cell_type": "code",
      "metadata": {
        "id": "DODD6tdn36Hc",
        "colab_type": "code",
        "outputId": "bf5c3c02-f919-412b-e38d-f478a1ee7851",
        "colab": {
          "base_uri": "https://localhost:8080/",
          "height": 34
        }
      },
      "source": [
        "from google.colab import drive\n",
        "drive.mount('/content/drive')"
      ],
      "execution_count": 0,
      "outputs": [
        {
          "output_type": "stream",
          "text": [
            "Drive already mounted at /content/drive; to attempt to forcibly remount, call drive.mount(\"/content/drive\", force_remount=True).\n"
          ],
          "name": "stdout"
        }
      ]
    },
    {
      "cell_type": "code",
      "metadata": {
        "id": "FZz6UtlT37dM",
        "colab_type": "code",
        "colab": {}
      },
      "source": [
        "from pathlib import Path\n",
        "# 下記パスはご自分の環境に合わせて修正してください\n",
        "drive_path = Path(\"/content/drive/My Drive/competition/ProbSpace/salary\")"
      ],
      "execution_count": 0,
      "outputs": []
    },
    {
      "cell_type": "code",
      "metadata": {
        "id": "Lw-q3Wfq4Fxi",
        "colab_type": "code",
        "colab": {}
      },
      "source": [
        "train_path = drive_path / \"train_data.csv\"\n",
        "test_path = drive_path / \"test_data.csv\""
      ],
      "execution_count": 0,
      "outputs": []
    },
    {
      "cell_type": "code",
      "metadata": {
        "id": "YfrfxtoQ4Lp0",
        "colab_type": "code",
        "colab": {}
      },
      "source": [
        "import os\n",
        "import random\n",
        "import numpy as np\n",
        "import pandas as pd\n",
        "import lightgbm as lgb"
      ],
      "execution_count": 0,
      "outputs": []
    },
    {
      "cell_type": "code",
      "metadata": {
        "id": "ejIYvAZH68bj",
        "colab_type": "code",
        "colab": {}
      },
      "source": [
        "# Reference:\n",
        "# https://www.kaggle.com/bminixhofer/a-validation-framework-impact-of-the-random-seed\n",
        "def seed_everything(seed=1234):\n",
        "    random.seed(seed)\n",
        "    os.environ['PYTHONHASHSEED'] = str(seed)\n",
        "    np.random.seed(seed)\n",
        "    # torch.manual_seed(seed)\n",
        "    # torch.cuda.manual_seed(seed)\n",
        "    # torch.backends.cudnn.deterministic = True\n",
        "seed_everything()"
      ],
      "execution_count": 0,
      "outputs": []
    },
    {
      "cell_type": "code",
      "metadata": {
        "id": "Ve-jlPMS4UwH",
        "colab_type": "code",
        "colab": {}
      },
      "source": [
        "train = pd.read_csv(train_path)\n",
        "test = pd.read_csv(test_path)"
      ],
      "execution_count": 0,
      "outputs": []
    },
    {
      "cell_type": "code",
      "metadata": {
        "id": "xqF1LHx-4a68",
        "colab_type": "code",
        "outputId": "550b9b3b-f422-46df-f97a-3c6932c62de9",
        "colab": {
          "base_uri": "https://localhost:8080/",
          "height": 34
        }
      },
      "source": [
        "train.shape, test.shape"
      ],
      "execution_count": 0,
      "outputs": [
        {
          "output_type": "execute_result",
          "data": {
            "text/plain": [
              "((21000, 13), (9000, 12))"
            ]
          },
          "metadata": {
            "tags": []
          },
          "execution_count": 12
        }
      ]
    },
    {
      "cell_type": "code",
      "metadata": {
        "id": "29BIc7Io4enS",
        "colab_type": "code",
        "outputId": "a71b7a7e-0e10-4d0a-e568-791e4fac711a",
        "colab": {
          "base_uri": "https://localhost:8080/",
          "height": 87
        }
      },
      "source": [
        "train.columns"
      ],
      "execution_count": 0,
      "outputs": [
        {
          "output_type": "execute_result",
          "data": {
            "text/plain": [
              "Index(['id', 'position', 'age', 'area', 'sex', 'partner', 'num_child',\n",
              "       'education', 'service_length', 'study_time', 'commute', 'overtime',\n",
              "       'salary'],\n",
              "      dtype='object')"
            ]
          },
          "metadata": {
            "tags": []
          },
          "execution_count": 13
        }
      ]
    },
    {
      "cell_type": "code",
      "metadata": {
        "id": "kPgq5WYM4ieN",
        "colab_type": "code",
        "colab": {}
      },
      "source": [
        "target_col = \"salary\"\n",
        "target = train[target_col]\n",
        "train.drop(columns=[target_col], inplace=True)"
      ],
      "execution_count": 0,
      "outputs": []
    },
    {
      "cell_type": "code",
      "metadata": {
        "id": "7hxc-Kkx42bp",
        "colab_type": "code",
        "colab": {}
      },
      "source": [
        "drop_cols = [\"id\"]\n",
        "train.drop(columns=drop_cols, inplace=True)\n",
        "test.drop(columns=drop_cols, inplace=True)"
      ],
      "execution_count": 0,
      "outputs": []
    },
    {
      "cell_type": "code",
      "metadata": {
        "id": "lZcai-vJ5Lap",
        "colab_type": "code",
        "colab": {}
      },
      "source": [
        "cat_features_cols = [\"position\", \"area\", \"sex\", \"partner\", \"education\"]"
      ],
      "execution_count": 0,
      "outputs": []
    },
    {
      "cell_type": "code",
      "metadata": {
        "id": "rHpY7vIL5qEL",
        "colab_type": "code",
        "colab": {}
      },
      "source": [
        "from sklearn.preprocessing import LabelEncoder\n",
        "from sklearn.model_selection import train_test_split"
      ],
      "execution_count": 0,
      "outputs": []
    },
    {
      "cell_type": "code",
      "metadata": {
        "id": "PZRit1BW4PmF",
        "colab_type": "code",
        "colab": {}
      },
      "source": [
        "def preprocess(df):\n",
        "    df[\"area\"] = LabelEncoder().fit_transform(df[\"area\"])\n",
        "    return df "
      ],
      "execution_count": 0,
      "outputs": []
    },
    {
      "cell_type": "code",
      "metadata": {
        "id": "XWWh1VNzDEmL",
        "colab_type": "code",
        "colab": {}
      },
      "source": [
        "train = preprocess(train)\n",
        "test = preprocess(test)"
      ],
      "execution_count": 0,
      "outputs": []
    },
    {
      "cell_type": "code",
      "metadata": {
        "id": "I2xtlI6CC2RM",
        "colab_type": "code",
        "colab": {}
      },
      "source": [
        "cat_features_idx = [idx for idx, col in enumerate(train.columns) if col in cat_features_cols]"
      ],
      "execution_count": 0,
      "outputs": []
    },
    {
      "cell_type": "code",
      "metadata": {
        "id": "S63B-96qC32f",
        "colab_type": "code",
        "outputId": "9c763864-8ad9-4881-fd31-38043a5cdf79",
        "colab": {
          "base_uri": "https://localhost:8080/",
          "height": 34
        }
      },
      "source": [
        "cat_features_idx"
      ],
      "execution_count": 0,
      "outputs": [
        {
          "output_type": "execute_result",
          "data": {
            "text/plain": [
              "[0, 2, 3, 4, 6]"
            ]
          },
          "metadata": {
            "tags": []
          },
          "execution_count": 21
        }
      ]
    },
    {
      "cell_type": "code",
      "metadata": {
        "id": "PwvYMJqA6jrO",
        "colab_type": "code",
        "outputId": "c214d3f2-db94-4055-9e5c-230844348273",
        "colab": {
          "base_uri": "https://localhost:8080/",
          "height": 282
        }
      },
      "source": [
        "target.hist()"
      ],
      "execution_count": 0,
      "outputs": [
        {
          "output_type": "execute_result",
          "data": {
            "text/plain": [
              "<matplotlib.axes._subplots.AxesSubplot at 0x7f8f2d5e5c88>"
            ]
          },
          "metadata": {
            "tags": []
          },
          "execution_count": 22
        },
        {
          "output_type": "display_data",
          "data": {
            "image/png": "[encoded data removed]",
            "text/plain": [
              "<Figure size 432x288 with 1 Axes>"
            ]
          },
          "metadata": {
            "tags": []
          }
        }
      ]
    },
    {
      "cell_type": "code",
      "metadata": {
        "id": "VHduztM97WgS",
        "colab_type": "code",
        "outputId": "8ec69d5e-de45-4eae-e8d6-5a23258d00cb",
        "colab": {
          "base_uri": "https://localhost:8080/",
          "height": 282
        }
      },
      "source": [
        "target.map(np.log1p).hist()"
      ],
      "execution_count": 0,
      "outputs": [
        {
          "output_type": "execute_result",
          "data": {
            "text/plain": [
              "<matplotlib.axes._subplots.AxesSubplot at 0x7f8f2d091358>"
            ]
          },
          "metadata": {
            "tags": []
          },
          "execution_count": 23
        },
        {
          "output_type": "display_data",
          "data": {
            "image/png": "[encoded data removed]",
            "text/plain": [
              "<Figure size 432x288 with 1 Axes>"
            ]
          },
          "metadata": {
            "tags": []
          }
        }
      ]
    },
    {
      "cell_type": "code",
      "metadata": {
        "id": "VkfMGKBX7orP",
        "colab_type": "code",
        "colab": {}
      },
      "source": [
        "target = target.map(np.log1p)"
      ],
      "execution_count": 0,
      "outputs": []
    },
    {
      "cell_type": "code",
      "metadata": {
        "id": "-tVge7V69IbO",
        "colab_type": "code",
        "colab": {}
      },
      "source": [
        "X_train, X_test, y_train, y_test = train_test_split(train, target, test_size=0.1, random_state=42)"
      ],
      "execution_count": 0,
      "outputs": []
    },
    {
      "cell_type": "code",
      "metadata": {
        "id": "T60G-k6T9cZD",
        "colab_type": "code",
        "colab": {}
      },
      "source": [
        "lgb_train = lgb.Dataset(X_train, y_train)\n",
        "lgb_valid = lgb.Dataset(X_test, y_test, reference=lgb_train)"
      ],
      "execution_count": 0,
      "outputs": []
    },
    {
      "cell_type": "code",
      "metadata": {
        "id": "fM9_AEgd9xgf",
        "colab_type": "code",
        "colab": {}
      },
      "source": [
        "params = {\n",
        "    'boosting_type': 'gbdt',\n",
        "    'objective': 'fair',\n",
        "    'metric': 'fair',\n",
        "    'num_leaves': 31,\n",
        "    'learning_rate': 0.01,\n",
        "    'feature_fraction': 0.9,\n",
        "    'bagging_fraction': 0.8,\n",
        "    'bagging_freq': 5,\n",
        "    'verbose': 0,\n",
        "    'n_estimators':20000,\n",
        "    'early_stopping_rounds':200,\n",
        "    'seed': 42\n",
        "}"
      ],
      "execution_count": 0,
      "outputs": []
    },
    {
      "cell_type": "code",
      "metadata": {
        "id": "HiIJr1eF9oXy",
        "colab_type": "code",
        "outputId": "9e7ace59-a4fa-4dd1-f17b-26fb95e7173c",
        "colab": {
          "base_uri": "https://localhost:8080/",
          "height": 492
        }
      },
      "source": [
        "model = lgb.train(params,\n",
        "                  lgb_train,\n",
        "                  valid_names=['train', 'valid'],\n",
        "                  valid_sets=[lgb_train, lgb_valid],\n",
        "                  categorical_feature=cat_features_idx,\n",
        "                  verbose_eval=200)"
      ],
      "execution_count": 0,
      "outputs": [
        {
          "output_type": "stream",
          "text": [
            "/usr/local/lib/python3.6/dist-packages/lightgbm/engine.py:118: UserWarning: Found `n_estimators` in params. Will use it instead of argument\n",
            "  warnings.warn(\"Found `{}` in params. Will use it instead of argument\".format(alias))\n",
            "/usr/local/lib/python3.6/dist-packages/lightgbm/engine.py:123: UserWarning: Found `early_stopping_rounds` in params. Will use it instead of argument\n",
            "  warnings.warn(\"Found `{}` in params. Will use it instead of argument\".format(alias))\n",
            "/usr/local/lib/python3.6/dist-packages/lightgbm/basic.py:1209: UserWarning: categorical_feature in Dataset is overridden.\n",
            "New categorical_feature is [0, 2, 3, 4, 6]\n",
            "  'New categorical_feature is {}'.format(sorted(list(categorical_feature))))\n",
            "/usr/local/lib/python3.6/dist-packages/lightgbm/basic.py:762: UserWarning: categorical_feature in param dict is overridden.\n",
            "  warnings.warn('categorical_feature in param dict is overridden.')\n"
          ],
          "name": "stderr"
        },
        {
          "output_type": "stream",
          "text": [
            "Training until validation scores don't improve for 200 rounds.\n",
            "[200]\ttrain's fair: 0.00591529\tvalid's fair: 0.00584272\n",
            "[400]\ttrain's fair: 0.00383766\tvalid's fair: 0.00388675\n",
            "[600]\ttrain's fair: 0.00341535\tvalid's fair: 0.00358709\n",
            "[800]\ttrain's fair: 0.00321057\tvalid's fair: 0.00348837\n",
            "[1000]\ttrain's fair: 0.00306264\tvalid's fair: 0.00343574\n",
            "[1200]\ttrain's fair: 0.00293848\tvalid's fair: 0.00338688\n",
            "[1400]\ttrain's fair: 0.00283491\tvalid's fair: 0.00337048\n",
            "[1600]\ttrain's fair: 0.00274115\tvalid's fair: 0.00335145\n",
            "[1800]\ttrain's fair: 0.00265499\tvalid's fair: 0.0033412\n",
            "[2000]\ttrain's fair: 0.00257815\tvalid's fair: 0.00333537\n",
            "[2200]\ttrain's fair: 0.0025007\tvalid's fair: 0.00332757\n",
            "[2400]\ttrain's fair: 0.00242746\tvalid's fair: 0.00331816\n",
            "[2600]\ttrain's fair: 0.00236282\tvalid's fair: 0.00331732\n",
            "[2800]\ttrain's fair: 0.00230092\tvalid's fair: 0.003314\n",
            "[3000]\ttrain's fair: 0.00224055\tvalid's fair: 0.0033139\n",
            "Early stopping, best iteration is:\n",
            "[2890]\ttrain's fair: 0.0022729\tvalid's fair: 0.00331216\n"
          ],
          "name": "stdout"
        }
      ]
    },
    {
      "cell_type": "code",
      "metadata": {
        "id": "API0vyU0-0S6",
        "colab_type": "code",
        "colab": {}
      },
      "source": [
        "predicts = np.expm1(model.predict(test))"
      ],
      "execution_count": 0,
      "outputs": []
    },
    {
      "cell_type": "code",
      "metadata": {
        "id": "cuEDrSHNSiHV",
        "colab_type": "code",
        "colab": {}
      },
      "source": [
        "pd.DataFrame({\"id\": range(len(predicts)), \"y\": predicts }).to_csv(\"submission.csv\", index=False)"
      ],
      "execution_count": 0,
      "outputs": []
    },
    {
      "cell_type": "code",
      "metadata": {
        "id": "U92FYORtLPrM",
        "colab_type": "code",
        "colab": {}
      },
      "source": [
        ""
      ],
      "execution_count": 0,
      "outputs": []
    }
  ]
}