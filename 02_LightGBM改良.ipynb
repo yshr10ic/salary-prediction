{
 "cells": [
  {
   "cell_type": "markdown",
   "metadata": {},
   "source": [
    "# 給与推定コンペ"
   ]
  },
  {
   "cell_type": "markdown",
   "metadata": {},
   "source": [
    "## ライブラリのインポート"
   ]
  },
  {
   "cell_type": "code",
   "execution_count": 6,
   "metadata": {},
   "outputs": [],
   "source": [
    "import numpy as np\n",
    "import pandas as pd\n",
    "import japanize_matplotlib\n",
    "\n",
    "from sklearn.model_selection import train_test_split\n",
    "import lightgbm as lgb"
   ]
  },
  {
   "cell_type": "markdown",
   "metadata": {},
   "source": [
    "## データの読み込み"
   ]
  },
  {
   "cell_type": "code",
   "execution_count": 2,
   "metadata": {},
   "outputs": [],
   "source": [
    "train = pd.read_csv('data/train_data.csv')\n",
    "test = pd.read_csv('data/test_data.csv')"
   ]
  },
  {
   "cell_type": "markdown",
   "metadata": {},
   "source": [
    "<div align=\"center\">\n",
    "    <img src=\"img/column_description.png\">\n",
    "</div>"
   ]
  },
  {
   "cell_type": "markdown",
   "metadata": {},
   "source": [
    "## 前処理"
   ]
  },
  {
   "cell_type": "code",
   "execution_count": 3,
   "metadata": {},
   "outputs": [],
   "source": [
    "# Label Encoding\n",
    "from sklearn import preprocessing\n",
    "\n",
    "le = preprocessing.LabelEncoder()\n",
    "train['area'] = le.fit_transform(train['area'])\n",
    "test['area'] = le.transform(test['area'])"
   ]
  },
  {
   "cell_type": "markdown",
   "metadata": {},
   "source": [
    "## 学習"
   ]
  },
  {
   "cell_type": "code",
   "execution_count": 7,
   "metadata": {},
   "outputs": [
    {
     "data": {
      "text/plain": [
       "((21000, 11), (21000,), (9000, 11))"
      ]
     },
     "execution_count": 7,
     "metadata": {},
     "output_type": "execute_result"
    }
   ],
   "source": [
    "X = train.iloc[:, 1:-1]\n",
    "y = train.iloc[:, -1]\n",
    "X_test = test.iloc[:, 1:]\n",
    "\n",
    "X.shape, y.shape, X_test.shape"
   ]
  },
  {
   "cell_type": "code",
   "execution_count": 8,
   "metadata": {},
   "outputs": [],
   "source": [
    "X_train, X_valid, y_train, y_valid = train_test_split(\n",
    "    X, y, test_size=0.2, random_state=0\n",
    ")"
   ]
  },
  {
   "cell_type": "code",
   "execution_count": 9,
   "metadata": {},
   "outputs": [],
   "source": [
    "train_data = lgb.Dataset(X_train, y_train)\n",
    "valid_data = lgb.Dataset(X_valid, y_valid)"
   ]
  },
  {
   "cell_type": "code",
   "execution_count": 10,
   "metadata": {},
   "outputs": [],
   "source": [
    "params = {\n",
    "    'task' : 'train',\n",
    "    'boosting_type' : 'gbdt',\n",
    "    'objective' : 'regression',\n",
    "    'metric': 'mae',\n",
    "    'verbose' : 0\n",
    "}"
   ]
  },
  {
   "cell_type": "code",
   "execution_count": 11,
   "metadata": {},
   "outputs": [],
   "source": [
    "categorical_features = [\n",
    "    'area', 'sex', 'partner', 'education'\n",
    "]"
   ]
  },
  {
   "cell_type": "code",
   "execution_count": 12,
   "metadata": {},
   "outputs": [
    {
     "name": "stderr",
     "output_type": "stream",
     "text": [
      "D:\\Application\\Anaconda3\\envs\\prob_space_salary\\lib\\site-packages\\lightgbm\\basic.py:1295: UserWarning: categorical_feature in Dataset is overridden.\n",
      "New categorical_feature is ['area', 'education', 'partner', 'sex']\n",
      "  'New categorical_feature is {}'.format(sorted(list(categorical_feature))))\n"
     ]
    },
    {
     "name": "stdout",
     "output_type": "stream",
     "text": [
      "[1]\tvalid_0's l1: 127.765\n",
      "[2]\tvalid_0's l1: 116.625\n",
      "[3]\tvalid_0's l1: 106.467\n",
      "[4]\tvalid_0's l1: 97.4349\n",
      "[5]\tvalid_0's l1: 89.5079\n",
      "[6]\tvalid_0's l1: 82.472\n",
      "[7]\tvalid_0's l1: 76.3028\n",
      "[8]\tvalid_0's l1: 70.7226\n",
      "[9]\tvalid_0's l1: 65.808\n",
      "[10]\tvalid_0's l1: 61.3115\n",
      "[11]\tvalid_0's l1: 57.3379\n",
      "[12]\tvalid_0's l1: 53.552\n",
      "[13]\tvalid_0's l1: 50.2398\n",
      "[14]\tvalid_0's l1: 47.2402\n",
      "[15]\tvalid_0's l1: 44.708\n",
      "[16]\tvalid_0's l1: 42.4023\n",
      "[17]\tvalid_0's l1: 40.3243\n",
      "[18]\tvalid_0's l1: 38.5203\n",
      "[19]\tvalid_0's l1: 36.8859\n",
      "[20]\tvalid_0's l1: 35.4384\n",
      "[21]\tvalid_0's l1: 34.1748\n",
      "[22]\tvalid_0's l1: 33.1067\n",
      "[23]\tvalid_0's l1: 32.175\n",
      "[24]\tvalid_0's l1: 31.393\n",
      "[25]\tvalid_0's l1: 30.6549\n",
      "[26]\tvalid_0's l1: 30.0202\n",
      "[27]\tvalid_0's l1: 29.4472\n",
      "[28]\tvalid_0's l1: 28.9712\n",
      "[29]\tvalid_0's l1: 28.5521\n",
      "[30]\tvalid_0's l1: 28.1131\n",
      "[31]\tvalid_0's l1: 27.7228\n",
      "[32]\tvalid_0's l1: 27.3083\n",
      "[33]\tvalid_0's l1: 27.0185\n",
      "[34]\tvalid_0's l1: 26.7961\n",
      "[35]\tvalid_0's l1: 26.5672\n",
      "[36]\tvalid_0's l1: 26.3757\n",
      "[37]\tvalid_0's l1: 26.2463\n",
      "[38]\tvalid_0's l1: 26.0602\n",
      "[39]\tvalid_0's l1: 25.8168\n",
      "[40]\tvalid_0's l1: 25.6951\n",
      "[41]\tvalid_0's l1: 25.5157\n",
      "[42]\tvalid_0's l1: 25.4308\n",
      "[43]\tvalid_0's l1: 25.3532\n",
      "[44]\tvalid_0's l1: 25.2362\n",
      "[45]\tvalid_0's l1: 25.1365\n",
      "[46]\tvalid_0's l1: 25.0317\n",
      "[47]\tvalid_0's l1: 24.9315\n",
      "[48]\tvalid_0's l1: 24.8915\n",
      "[49]\tvalid_0's l1: 24.8181\n",
      "[50]\tvalid_0's l1: 24.7306\n",
      "[51]\tvalid_0's l1: 24.6068\n",
      "[52]\tvalid_0's l1: 24.5921\n",
      "[53]\tvalid_0's l1: 24.5109\n",
      "[54]\tvalid_0's l1: 24.4269\n",
      "[55]\tvalid_0's l1: 24.3904\n",
      "[56]\tvalid_0's l1: 24.3445\n",
      "[57]\tvalid_0's l1: 24.3074\n",
      "[58]\tvalid_0's l1: 24.2767\n",
      "[59]\tvalid_0's l1: 24.2095\n",
      "[60]\tvalid_0's l1: 24.1932\n",
      "[61]\tvalid_0's l1: 24.1651\n",
      "[62]\tvalid_0's l1: 24.1461\n",
      "[63]\tvalid_0's l1: 24.0957\n",
      "[64]\tvalid_0's l1: 24.0938\n",
      "[65]\tvalid_0's l1: 24.0666\n",
      "[66]\tvalid_0's l1: 24.0636\n",
      "[67]\tvalid_0's l1: 24.0385\n",
      "[68]\tvalid_0's l1: 24.0099\n",
      "[69]\tvalid_0's l1: 24.0102\n",
      "[70]\tvalid_0's l1: 24.0205\n",
      "[71]\tvalid_0's l1: 24.0115\n",
      "[72]\tvalid_0's l1: 23.9897\n",
      "[73]\tvalid_0's l1: 23.9742\n",
      "[74]\tvalid_0's l1: 23.9747\n",
      "[75]\tvalid_0's l1: 23.9807\n",
      "[76]\tvalid_0's l1: 23.9638\n",
      "[77]\tvalid_0's l1: 23.9603\n",
      "[78]\tvalid_0's l1: 23.9238\n",
      "[79]\tvalid_0's l1: 23.925\n",
      "[80]\tvalid_0's l1: 23.9018\n",
      "[81]\tvalid_0's l1: 23.9116\n",
      "[82]\tvalid_0's l1: 23.9157\n",
      "[83]\tvalid_0's l1: 23.9057\n",
      "[84]\tvalid_0's l1: 23.9082\n",
      "[85]\tvalid_0's l1: 23.8884\n",
      "[86]\tvalid_0's l1: 23.8883\n",
      "[87]\tvalid_0's l1: 23.8925\n",
      "[88]\tvalid_0's l1: 23.8664\n",
      "[89]\tvalid_0's l1: 23.8698\n",
      "[90]\tvalid_0's l1: 23.8703\n",
      "[91]\tvalid_0's l1: 23.8547\n",
      "[92]\tvalid_0's l1: 23.8474\n",
      "[93]\tvalid_0's l1: 23.8391\n",
      "[94]\tvalid_0's l1: 23.8465\n",
      "[95]\tvalid_0's l1: 23.8501\n",
      "[96]\tvalid_0's l1: 23.8357\n",
      "[97]\tvalid_0's l1: 23.8105\n",
      "[98]\tvalid_0's l1: 23.8035\n",
      "[99]\tvalid_0's l1: 23.8146\n",
      "[100]\tvalid_0's l1: 23.7944\n"
     ]
    }
   ],
   "source": [
    "model = lgb.train(\n",
    "    params,\n",
    "    train_data,\n",
    "    num_boost_round=100,\n",
    "    valid_sets=valid_data,\n",
    "    categorical_feature=categorical_features\n",
    ")"
   ]
  },
  {
   "cell_type": "code",
   "execution_count": 13,
   "metadata": {},
   "outputs": [],
   "source": [
    "y_pred = model.predict(X_test)"
   ]
  },
  {
   "cell_type": "markdown",
   "metadata": {},
   "source": [
    "## 提出ファイルの作成"
   ]
  },
  {
   "cell_type": "code",
   "execution_count": 14,
   "metadata": {},
   "outputs": [],
   "source": [
    "submit_df = pd.DataFrame({'y': y_pred})\n",
    "submit_df.index.name = 'id'\n",
    "submit_df.to_csv('submission\\submission_lgb.csv')"
   ]
  },
  {
   "cell_type": "markdown",
   "metadata": {},
   "source": [
    "## 結果\n",
    "- 25.90463"
   ]
  }
 ],
 "metadata": {
  "kernelspec": {
   "display_name": "Python 3",
   "language": "python",
   "name": "python3"
  },
  "language_info": {
   "codemirror_mode": {
    "name": "ipython",
    "version": 3
   },
   "file_extension": ".py",
   "mimetype": "text/x-python",
   "name": "python",
   "nbconvert_exporter": "python",
   "pygments_lexer": "ipython3",
   "version": "3.7.5"
  }
 },
 "nbformat": 4,
 "nbformat_minor": 2
}
