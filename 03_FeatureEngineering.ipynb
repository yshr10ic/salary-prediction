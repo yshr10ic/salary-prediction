{
 "cells": [
  {
   "cell_type": "markdown",
   "metadata": {},
   "source": [
    "# 給与推定コンペ"
   ]
  },
  {
   "cell_type": "markdown",
   "metadata": {},
   "source": [
    "## ライブラリのインポート"
   ]
  },
  {
   "cell_type": "code",
   "execution_count": 1,
   "metadata": {},
   "outputs": [],
   "source": [
    "import numpy as np\n",
    "import pandas as pd\n",
    "import japanize_matplotlib\n",
    "\n",
    "from sklearn import preprocessing\n",
    "from sklearn.model_selection import train_test_split\n",
    "import lightgbm as lgb"
   ]
  },
  {
   "cell_type": "markdown",
   "metadata": {},
   "source": [
    "## データの読み込み"
   ]
  },
  {
   "cell_type": "code",
   "execution_count": 2,
   "metadata": {},
   "outputs": [],
   "source": [
    "train = pd.read_csv('data/train_data.csv')\n",
    "test = pd.read_csv('data/test_data.csv')"
   ]
  },
  {
   "cell_type": "markdown",
   "metadata": {},
   "source": [
    "<div align=\"center\">\n",
    "    <img src=\"img/column_description.png\">\n",
    "</div>"
   ]
  },
  {
   "cell_type": "markdown",
   "metadata": {},
   "source": [
    "## 前処理"
   ]
  },
  {
   "cell_type": "code",
   "execution_count": 3,
   "metadata": {},
   "outputs": [],
   "source": [
    "def convert_area(area):\n",
    "    if area in ['北海道']:\n",
    "        return '北海道'\n",
    "    elif area in ['青森県', '岩手県', '宮城県', '秋田県', '山形県', '福島県']:\n",
    "        return '東北地方'\n",
    "    elif area in ['茨城県', '栃木県', '群馬県', '埼玉県', '千葉県', '神奈川県']:\n",
    "        return '関東地方'\n",
    "    elif area in ['東京都', '大阪府']:\n",
    "        return '首都圏'\n",
    "    elif area in ['新潟県', '富山県', '石川県', '福井県', '長野県', '山梨県', '岐阜県', '静岡県', '愛知県']:\n",
    "        return '中部地方'\n",
    "    elif area in ['三重県', '滋賀県', '京都府', '兵庫県', '奈良県', '和歌山県']:\n",
    "        return '近畿地方'\n",
    "    elif area in ['鳥取県', '島根県', '岡山県', '広島県', '山口県']:\n",
    "        return '中国地方'\n",
    "    elif area in ['徳島県', '香川県', '愛媛県', '高知県']:\n",
    "        return '四国地方'\n",
    "    elif area in ['福岡県', '佐賀県', '長崎県', '熊本県', '大分県', '宮崎県', '鹿児島県']:\n",
    "        return '九州地方'\n",
    "    elif area in ['沖縄県']:\n",
    "        return '沖縄地方'"
   ]
  },
  {
   "cell_type": "code",
   "execution_count": 4,
   "metadata": {},
   "outputs": [],
   "source": [
    "train['area'] = train['area'].map(convert_area)\n",
    "test['area'] = test['area'].map(convert_area)"
   ]
  },
  {
   "cell_type": "code",
   "execution_count": 5,
   "metadata": {},
   "outputs": [],
   "source": [
    "# def convert_age(age):\n",
    "#     return int((age - age % 10) / 10)"
   ]
  },
  {
   "cell_type": "code",
   "execution_count": 6,
   "metadata": {},
   "outputs": [],
   "source": [
    "# train['age'] = train['age'].map(convert_age)\n",
    "# test['age'] = test['age'].map(convert_age)"
   ]
  },
  {
   "cell_type": "code",
   "execution_count": 7,
   "metadata": {},
   "outputs": [],
   "source": [
    "# train.loc[train['num_child'] > 0, 'num_child'] = 1\n",
    "# test.loc[test['num_child'] > 0, 'num_child'] = 1"
   ]
  },
  {
   "cell_type": "code",
   "execution_count": 8,
   "metadata": {},
   "outputs": [
    {
     "data": {
      "text/html": [
       "<div>\n",
       "<style scoped>\n",
       "    .dataframe tbody tr th:only-of-type {\n",
       "        vertical-align: middle;\n",
       "    }\n",
       "\n",
       "    .dataframe tbody tr th {\n",
       "        vertical-align: top;\n",
       "    }\n",
       "\n",
       "    .dataframe thead th {\n",
       "        text-align: right;\n",
       "    }\n",
       "</style>\n",
       "<table border=\"1\" class=\"dataframe\">\n",
       "  <thead>\n",
       "    <tr style=\"text-align: right;\">\n",
       "      <th></th>\n",
       "      <th>id</th>\n",
       "      <th>position</th>\n",
       "      <th>age</th>\n",
       "      <th>area</th>\n",
       "      <th>sex</th>\n",
       "      <th>partner</th>\n",
       "      <th>num_child</th>\n",
       "      <th>education</th>\n",
       "      <th>service_length</th>\n",
       "      <th>study_time</th>\n",
       "      <th>commute</th>\n",
       "      <th>overtime</th>\n",
       "      <th>salary</th>\n",
       "    </tr>\n",
       "  </thead>\n",
       "  <tbody>\n",
       "    <tr>\n",
       "      <th>0</th>\n",
       "      <td>0</td>\n",
       "      <td>1</td>\n",
       "      <td>44</td>\n",
       "      <td>中部地方</td>\n",
       "      <td>2</td>\n",
       "      <td>1</td>\n",
       "      <td>1</td>\n",
       "      <td>1</td>\n",
       "      <td>24</td>\n",
       "      <td>2.0</td>\n",
       "      <td>1.6</td>\n",
       "      <td>9.2</td>\n",
       "      <td>428.074887</td>\n",
       "    </tr>\n",
       "    <tr>\n",
       "      <th>1</th>\n",
       "      <td>1</td>\n",
       "      <td>2</td>\n",
       "      <td>31</td>\n",
       "      <td>近畿地方</td>\n",
       "      <td>1</td>\n",
       "      <td>0</td>\n",
       "      <td>0</td>\n",
       "      <td>0</td>\n",
       "      <td>13</td>\n",
       "      <td>9.0</td>\n",
       "      <td>0.7</td>\n",
       "      <td>12.4</td>\n",
       "      <td>317.930517</td>\n",
       "    </tr>\n",
       "    <tr>\n",
       "      <th>2</th>\n",
       "      <td>2</td>\n",
       "      <td>2</td>\n",
       "      <td>36</td>\n",
       "      <td>中国地方</td>\n",
       "      <td>1</td>\n",
       "      <td>0</td>\n",
       "      <td>0</td>\n",
       "      <td>2</td>\n",
       "      <td>14</td>\n",
       "      <td>4.0</td>\n",
       "      <td>0.4</td>\n",
       "      <td>16.9</td>\n",
       "      <td>357.350316</td>\n",
       "    </tr>\n",
       "    <tr>\n",
       "      <th>3</th>\n",
       "      <td>3</td>\n",
       "      <td>0</td>\n",
       "      <td>22</td>\n",
       "      <td>首都圏</td>\n",
       "      <td>2</td>\n",
       "      <td>0</td>\n",
       "      <td>0</td>\n",
       "      <td>0</td>\n",
       "      <td>4</td>\n",
       "      <td>3.0</td>\n",
       "      <td>0.4</td>\n",
       "      <td>6.1</td>\n",
       "      <td>201.310911</td>\n",
       "    </tr>\n",
       "    <tr>\n",
       "      <th>4</th>\n",
       "      <td>4</td>\n",
       "      <td>0</td>\n",
       "      <td>25</td>\n",
       "      <td>九州地方</td>\n",
       "      <td>2</td>\n",
       "      <td>0</td>\n",
       "      <td>0</td>\n",
       "      <td>1</td>\n",
       "      <td>5</td>\n",
       "      <td>3.0</td>\n",
       "      <td>0.2</td>\n",
       "      <td>4.9</td>\n",
       "      <td>178.067475</td>\n",
       "    </tr>\n",
       "  </tbody>\n",
       "</table>\n",
       "</div>"
      ],
      "text/plain": [
       "   id  position  age  area  sex  partner  num_child  education  \\\n",
       "0   0         1   44  中部地方    2        1          1          1   \n",
       "1   1         2   31  近畿地方    1        0          0          0   \n",
       "2   2         2   36  中国地方    1        0          0          2   \n",
       "3   3         0   22   首都圏    2        0          0          0   \n",
       "4   4         0   25  九州地方    2        0          0          1   \n",
       "\n",
       "   service_length  study_time  commute  overtime      salary  \n",
       "0              24         2.0      1.6       9.2  428.074887  \n",
       "1              13         9.0      0.7      12.4  317.930517  \n",
       "2              14         4.0      0.4      16.9  357.350316  \n",
       "3               4         3.0      0.4       6.1  201.310911  \n",
       "4               5         3.0      0.2       4.9  178.067475  "
      ]
     },
     "execution_count": 8,
     "metadata": {},
     "output_type": "execute_result"
    }
   ],
   "source": [
    "train.head()"
   ]
  },
  {
   "cell_type": "code",
   "execution_count": 9,
   "metadata": {},
   "outputs": [],
   "source": [
    "# Label Encoding\n",
    "\n",
    "le = preprocessing.LabelEncoder()\n",
    "train['area'] = le.fit_transform(train['area'])\n",
    "test['area'] = le.transform(test['area'])"
   ]
  },
  {
   "cell_type": "markdown",
   "metadata": {},
   "source": [
    "## 学習"
   ]
  },
  {
   "cell_type": "code",
   "execution_count": 10,
   "metadata": {},
   "outputs": [
    {
     "data": {
      "text/plain": [
       "((21000, 11), (21000,), (9000, 11))"
      ]
     },
     "execution_count": 10,
     "metadata": {},
     "output_type": "execute_result"
    }
   ],
   "source": [
    "X = train.iloc[:, 1:-1]\n",
    "y = train.iloc[:, -1]\n",
    "X_test = test.iloc[:, 1:]\n",
    "\n",
    "X.shape, y.shape, X_test.shape"
   ]
  },
  {
   "cell_type": "code",
   "execution_count": 11,
   "metadata": {},
   "outputs": [],
   "source": [
    "X_train, X_valid, y_train, y_valid = train_test_split(\n",
    "    X, y, test_size=0.2, random_state=0\n",
    ")"
   ]
  },
  {
   "cell_type": "code",
   "execution_count": 12,
   "metadata": {},
   "outputs": [],
   "source": [
    "train_data = lgb.Dataset(X_train, y_train)\n",
    "valid_data = lgb.Dataset(X_valid, y_valid)"
   ]
  },
  {
   "cell_type": "code",
   "execution_count": 13,
   "metadata": {},
   "outputs": [],
   "source": [
    "params = {\n",
    "    'task' : 'train',\n",
    "    'boosting_type' : 'gbdt',\n",
    "    'objective' : 'regression',\n",
    "    'metric': 'mae',\n",
    "    'verbose' : 0\n",
    "}"
   ]
  },
  {
   "cell_type": "code",
   "execution_count": 14,
   "metadata": {},
   "outputs": [],
   "source": [
    "categorical_features = [\n",
    "    'area', 'sex', 'partner', 'education'\n",
    "]"
   ]
  },
  {
   "cell_type": "code",
   "execution_count": 15,
   "metadata": {},
   "outputs": [
    {
     "name": "stderr",
     "output_type": "stream",
     "text": [
      "D:\\Application\\Anaconda3\\envs\\prob_space_salary\\lib\\site-packages\\lightgbm\\basic.py:1295: UserWarning: categorical_feature in Dataset is overridden.\n",
      "New categorical_feature is ['area', 'education', 'partner', 'sex']\n",
      "  'New categorical_feature is {}'.format(sorted(list(categorical_feature))))\n"
     ]
    },
    {
     "name": "stdout",
     "output_type": "stream",
     "text": [
      "[1]\tvalid_0's l1: 127.674\n",
      "[2]\tvalid_0's l1: 116.617\n",
      "[3]\tvalid_0's l1: 106.475\n",
      "[4]\tvalid_0's l1: 97.5562\n",
      "[5]\tvalid_0's l1: 89.574\n",
      "[6]\tvalid_0's l1: 82.6246\n",
      "[7]\tvalid_0's l1: 76.4327\n",
      "[8]\tvalid_0's l1: 70.8402\n",
      "[9]\tvalid_0's l1: 65.9393\n",
      "[10]\tvalid_0's l1: 61.6793\n",
      "[11]\tvalid_0's l1: 57.8982\n",
      "[12]\tvalid_0's l1: 54.1776\n",
      "[13]\tvalid_0's l1: 51.1724\n",
      "[14]\tvalid_0's l1: 48.2332\n",
      "[15]\tvalid_0's l1: 45.7678\n",
      "[16]\tvalid_0's l1: 43.4506\n",
      "[17]\tvalid_0's l1: 41.4503\n",
      "[18]\tvalid_0's l1: 39.7452\n",
      "[19]\tvalid_0's l1: 38.1965\n",
      "[20]\tvalid_0's l1: 36.8886\n",
      "[21]\tvalid_0's l1: 35.6968\n",
      "[22]\tvalid_0's l1: 34.6884\n",
      "[23]\tvalid_0's l1: 33.7735\n",
      "[24]\tvalid_0's l1: 33.0368\n",
      "[25]\tvalid_0's l1: 32.3944\n",
      "[26]\tvalid_0's l1: 31.8068\n",
      "[27]\tvalid_0's l1: 31.2875\n",
      "[28]\tvalid_0's l1: 30.8599\n",
      "[29]\tvalid_0's l1: 30.4729\n",
      "[30]\tvalid_0's l1: 30.1082\n",
      "[31]\tvalid_0's l1: 29.7914\n",
      "[32]\tvalid_0's l1: 29.5039\n",
      "[33]\tvalid_0's l1: 29.2553\n",
      "[34]\tvalid_0's l1: 29.0339\n",
      "[35]\tvalid_0's l1: 28.8475\n",
      "[36]\tvalid_0's l1: 28.681\n",
      "[37]\tvalid_0's l1: 28.5626\n",
      "[38]\tvalid_0's l1: 28.4522\n",
      "[39]\tvalid_0's l1: 28.3079\n",
      "[40]\tvalid_0's l1: 28.2005\n",
      "[41]\tvalid_0's l1: 28.0818\n",
      "[42]\tvalid_0's l1: 27.953\n",
      "[43]\tvalid_0's l1: 27.8521\n",
      "[44]\tvalid_0's l1: 27.7897\n",
      "[45]\tvalid_0's l1: 27.7251\n",
      "[46]\tvalid_0's l1: 27.6227\n",
      "[47]\tvalid_0's l1: 27.5726\n",
      "[48]\tvalid_0's l1: 27.5263\n",
      "[49]\tvalid_0's l1: 27.4884\n",
      "[50]\tvalid_0's l1: 27.4212\n",
      "[51]\tvalid_0's l1: 27.3731\n",
      "[52]\tvalid_0's l1: 27.3502\n",
      "[53]\tvalid_0's l1: 27.3231\n",
      "[54]\tvalid_0's l1: 27.2863\n",
      "[55]\tvalid_0's l1: 27.2745\n",
      "[56]\tvalid_0's l1: 27.2474\n",
      "[57]\tvalid_0's l1: 27.2147\n",
      "[58]\tvalid_0's l1: 27.1963\n",
      "[59]\tvalid_0's l1: 27.1584\n",
      "[60]\tvalid_0's l1: 27.1543\n",
      "[61]\tvalid_0's l1: 27.127\n",
      "[62]\tvalid_0's l1: 27.1066\n",
      "[63]\tvalid_0's l1: 27.0391\n",
      "[64]\tvalid_0's l1: 27.011\n",
      "[65]\tvalid_0's l1: 26.9939\n",
      "[66]\tvalid_0's l1: 26.9969\n",
      "[67]\tvalid_0's l1: 26.9866\n",
      "[68]\tvalid_0's l1: 26.9733\n",
      "[69]\tvalid_0's l1: 26.9569\n",
      "[70]\tvalid_0's l1: 26.9612\n",
      "[71]\tvalid_0's l1: 26.9526\n",
      "[72]\tvalid_0's l1: 26.9379\n",
      "[73]\tvalid_0's l1: 26.9391\n",
      "[74]\tvalid_0's l1: 26.9209\n",
      "[75]\tvalid_0's l1: 26.9087\n",
      "[76]\tvalid_0's l1: 26.8983\n",
      "[77]\tvalid_0's l1: 26.8954\n",
      "[78]\tvalid_0's l1: 26.8948\n",
      "[79]\tvalid_0's l1: 26.9009\n",
      "[80]\tvalid_0's l1: 26.8824\n",
      "[81]\tvalid_0's l1: 26.8968\n",
      "[82]\tvalid_0's l1: 26.8993\n",
      "[83]\tvalid_0's l1: 26.8732\n",
      "[84]\tvalid_0's l1: 26.8604\n",
      "[85]\tvalid_0's l1: 26.85\n",
      "[86]\tvalid_0's l1: 26.8361\n",
      "[87]\tvalid_0's l1: 26.8136\n",
      "[88]\tvalid_0's l1: 26.8131\n",
      "[89]\tvalid_0's l1: 26.804\n",
      "[90]\tvalid_0's l1: 26.7918\n",
      "[91]\tvalid_0's l1: 26.7713\n",
      "[92]\tvalid_0's l1: 26.7737\n",
      "[93]\tvalid_0's l1: 26.7574\n",
      "[94]\tvalid_0's l1: 26.7425\n",
      "[95]\tvalid_0's l1: 26.7366\n",
      "[96]\tvalid_0's l1: 26.7383\n",
      "[97]\tvalid_0's l1: 26.7423\n",
      "[98]\tvalid_0's l1: 26.7385\n",
      "[99]\tvalid_0's l1: 26.7415\n",
      "[100]\tvalid_0's l1: 26.7413\n",
      "[101]\tvalid_0's l1: 26.7286\n",
      "[102]\tvalid_0's l1: 26.7231\n",
      "[103]\tvalid_0's l1: 26.717\n",
      "[104]\tvalid_0's l1: 26.6955\n",
      "[105]\tvalid_0's l1: 26.7014\n",
      "[106]\tvalid_0's l1: 26.6938\n",
      "[107]\tvalid_0's l1: 26.6971\n",
      "[108]\tvalid_0's l1: 26.6874\n",
      "[109]\tvalid_0's l1: 26.6888\n",
      "[110]\tvalid_0's l1: 26.6922\n",
      "[111]\tvalid_0's l1: 26.687\n",
      "[112]\tvalid_0's l1: 26.6924\n",
      "[113]\tvalid_0's l1: 26.7017\n",
      "[114]\tvalid_0's l1: 26.6963\n",
      "[115]\tvalid_0's l1: 26.6944\n",
      "[116]\tvalid_0's l1: 26.686\n",
      "[117]\tvalid_0's l1: 26.6784\n",
      "[118]\tvalid_0's l1: 26.6819\n",
      "[119]\tvalid_0's l1: 26.6783\n",
      "[120]\tvalid_0's l1: 26.6746\n",
      "[121]\tvalid_0's l1: 26.6593\n",
      "[122]\tvalid_0's l1: 26.6659\n",
      "[123]\tvalid_0's l1: 26.6698\n",
      "[124]\tvalid_0's l1: 26.6684\n",
      "[125]\tvalid_0's l1: 26.6612\n",
      "[126]\tvalid_0's l1: 26.6495\n",
      "[127]\tvalid_0's l1: 26.6511\n",
      "[128]\tvalid_0's l1: 26.6507\n",
      "[129]\tvalid_0's l1: 26.6542\n",
      "[130]\tvalid_0's l1: 26.6489\n",
      "[131]\tvalid_0's l1: 26.6508\n",
      "[132]\tvalid_0's l1: 26.6482\n",
      "[133]\tvalid_0's l1: 26.6494\n",
      "[134]\tvalid_0's l1: 26.6503\n",
      "[135]\tvalid_0's l1: 26.6526\n",
      "[136]\tvalid_0's l1: 26.6554\n",
      "[137]\tvalid_0's l1: 26.6494\n",
      "[138]\tvalid_0's l1: 26.6503\n",
      "[139]\tvalid_0's l1: 26.6523\n",
      "[140]\tvalid_0's l1: 26.6427\n",
      "[141]\tvalid_0's l1: 26.6391\n",
      "[142]\tvalid_0's l1: 26.6411\n",
      "[143]\tvalid_0's l1: 26.6464\n",
      "[144]\tvalid_0's l1: 26.6477\n",
      "[145]\tvalid_0's l1: 26.6552\n",
      "[146]\tvalid_0's l1: 26.6496\n",
      "[147]\tvalid_0's l1: 26.6538\n",
      "[148]\tvalid_0's l1: 26.6287\n",
      "[149]\tvalid_0's l1: 26.6349\n",
      "[150]\tvalid_0's l1: 26.6463\n"
     ]
    }
   ],
   "source": [
    "model = lgb.train(\n",
    "    params,\n",
    "    train_data,\n",
    "    num_boost_round=150,\n",
    "    valid_sets=valid_data,\n",
    "    categorical_feature=categorical_features\n",
    ")"
   ]
  },
  {
   "cell_type": "code",
   "execution_count": 16,
   "metadata": {},
   "outputs": [],
   "source": [
    "y_pred = model.predict(X_test)"
   ]
  },
  {
   "cell_type": "markdown",
   "metadata": {},
   "source": [
    "## 提出ファイルの作成"
   ]
  },
  {
   "cell_type": "code",
   "execution_count": 17,
   "metadata": {},
   "outputs": [],
   "source": [
    "submit_df = pd.DataFrame({'y': y_pred})\n",
    "submit_df.index.name = 'id'\n",
    "submit_df.to_csv('submission\\submission_03_5.csv')"
   ]
  },
  {
   "cell_type": "markdown",
   "metadata": {},
   "source": [
    "## 結果\n",
    "- 25.90463"
   ]
  }
 ],
 "metadata": {
  "kernelspec": {
   "display_name": "Python 3",
   "language": "python",
   "name": "python3"
  },
  "language_info": {
   "codemirror_mode": {
    "name": "ipython",
    "version": 3
   },
   "file_extension": ".py",
   "mimetype": "text/x-python",
   "name": "python",
   "nbconvert_exporter": "python",
   "pygments_lexer": "ipython3",
   "version": "3.7.5"
  }
 },
 "nbformat": 4,
 "nbformat_minor": 2
}
